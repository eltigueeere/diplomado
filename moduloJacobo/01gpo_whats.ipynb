{
 "cells": [
  {
   "cell_type": "markdown",
   "metadata": {},
   "source": [
    "# Librerías"
   ]
  },
  {
   "cell_type": "code",
   "execution_count": 1,
   "metadata": {},
   "outputs": [],
   "source": [
    "import pandas as pd"
   ]
  },
  {
   "cell_type": "markdown",
   "metadata": {},
   "source": [
    "# Importación datos"
   ]
  },
  {
   "cell_type": "code",
   "execution_count": 5,
   "metadata": {},
   "outputs": [],
   "source": [
    "df_whats = pd.read_csv('../Data/Chat de WhatsApp.txt', sep='delimiter', header=None, encoding = 'latin1', engine = 'python')"
   ]
  },
  {
   "cell_type": "code",
   "execution_count": 7,
   "metadata": {},
   "outputs": [
    {
     "data": {
      "text/html": [
       "<div>\n",
       "<style scoped>\n",
       "    .dataframe tbody tr th:only-of-type {\n",
       "        vertical-align: middle;\n",
       "    }\n",
       "\n",
       "    .dataframe tbody tr th {\n",
       "        vertical-align: top;\n",
       "    }\n",
       "\n",
       "    .dataframe thead th {\n",
       "        text-align: right;\n",
       "    }\n",
       "</style>\n",
       "<table border=\"1\" class=\"dataframe\">\n",
       "  <thead>\n",
       "    <tr style=\"text-align: right;\">\n",
       "      <th></th>\n",
       "      <th>0</th>\n",
       "    </tr>\n",
       "  </thead>\n",
       "  <tbody>\n",
       "    <tr>\n",
       "      <th>0</th>\n",
       "      <td>8/3/19 13:11 - Los mensajes en este grupo ahor...</td>\n",
       "    </tr>\n",
       "    <tr>\n",
       "      <th>1</th>\n",
       "      <td>8/3/19 13:04 - âJy creÃ³ el grupo \"Bendita e...</td>\n",
       "    </tr>\n",
       "    <tr>\n",
       "      <th>2</th>\n",
       "      <td>8/3/19 13:11 - âJy te aÃ±adiÃ³</td>\n",
       "    </tr>\n",
       "    <tr>\n",
       "      <th>3</th>\n",
       "      <td>8/3/19 13:14 - JebÃºs ð´ââ : XD</td>\n",
       "    </tr>\n",
       "    <tr>\n",
       "      <th>4</th>\n",
       "      <td>8/3/19 13:15 - Jn: Quien es Kike y quien ea Lalo?</td>\n",
       "    </tr>\n",
       "    <tr>\n",
       "      <th>5</th>\n",
       "      <td>8/3/19 13:15 - Jn: ð¤</td>\n",
       "    </tr>\n",
       "    <tr>\n",
       "      <th>6</th>\n",
       "      <td>8/3/19 13:16 - +52 1 55 2563 8294: &lt;Multimedia...</td>\n",
       "    </tr>\n",
       "    <tr>\n",
       "      <th>7</th>\n",
       "      <td>8/3/19 13:17 - Jn: Va jeje</td>\n",
       "    </tr>\n",
       "    <tr>\n",
       "      <th>8</th>\n",
       "      <td>8/3/19 13:25 - Jy: Naaa mms Jonathan</td>\n",
       "    </tr>\n",
       "    <tr>\n",
       "      <th>9</th>\n",
       "      <td>8/3/19 13:25 - Jy: Jajajaja</td>\n",
       "    </tr>\n",
       "  </tbody>\n",
       "</table>\n",
       "</div>"
      ],
      "text/plain": [
       "                                                   0\n",
       "0  8/3/19 13:11 - Los mensajes en este grupo ahor...\n",
       "1  8/3/19 13:04 - âJy creÃ³ el grupo \"Bendita e...\n",
       "2                   8/3/19 13:11 - âJy te aÃ±adiÃ³\n",
       "3               8/3/19 13:14 - JebÃºs ð´ââ : XD\n",
       "4  8/3/19 13:15 - Jn: Quien es Kike y quien ea Lalo?\n",
       "5                            8/3/19 13:15 - Jn: ð¤\n",
       "6  8/3/19 13:16 - +52 1 55 2563 8294: <Multimedia...\n",
       "7                         8/3/19 13:17 - Jn: Va jeje\n",
       "8               8/3/19 13:25 - Jy: Naaa mms Jonathan\n",
       "9                        8/3/19 13:25 - Jy: Jajajaja"
      ]
     },
     "execution_count": 7,
     "metadata": {},
     "output_type": "execute_result"
    }
   ],
   "source": [
    "df_whats.head(10)"
   ]
  },
  {
   "cell_type": "code",
   "execution_count": 8,
   "metadata": {},
   "outputs": [
    {
     "data": {
      "text/plain": [
       "(2475, 1)"
      ]
     },
     "execution_count": 8,
     "metadata": {},
     "output_type": "execute_result"
    }
   ],
   "source": [
    "df_whats.shape"
   ]
  },
  {
   "cell_type": "markdown",
   "metadata": {},
   "source": [
    "# Tratamiento datos"
   ]
  },
  {
   "cell_type": "code",
   "execution_count": 52,
   "metadata": {},
   "outputs": [],
   "source": [
    "date = []\n",
    "time = []\n",
    "persons = []\n",
    "messages = []\n",
    "errors = []\n",
    "for row in range(len(df_whats)):\n",
    "    whats = df_whats.iloc[row][0].split(' - ')\n",
    "    try:\n",
    "        messages.append(whats[1].split(':')[1])\n",
    "        date.append(whats[0].split()[0])\n",
    "        time.append(whats[0].split()[1])\n",
    "        persons.append(whats[1].split(':')[0])      \n",
    "    except:\n",
    "        errors.append(row)"
   ]
  },
  {
   "cell_type": "code",
   "execution_count": 58,
   "metadata": {},
   "outputs": [
    {
     "data": {
      "text/plain": [
       "20"
      ]
     },
     "execution_count": 58,
     "metadata": {},
     "output_type": "execute_result"
    }
   ],
   "source": [
    "len(errors)"
   ]
  },
  {
   "cell_type": "code",
   "execution_count": 62,
   "metadata": {},
   "outputs": [
    {
     "data": {
      "text/html": [
       "<div>\n",
       "<style scoped>\n",
       "    .dataframe tbody tr th:only-of-type {\n",
       "        vertical-align: middle;\n",
       "    }\n",
       "\n",
       "    .dataframe tbody tr th {\n",
       "        vertical-align: top;\n",
       "    }\n",
       "\n",
       "    .dataframe thead th {\n",
       "        text-align: right;\n",
       "    }\n",
       "</style>\n",
       "<table border=\"1\" class=\"dataframe\">\n",
       "  <thead>\n",
       "    <tr style=\"text-align: right;\">\n",
       "      <th></th>\n",
       "      <th>0</th>\n",
       "    </tr>\n",
       "  </thead>\n",
       "  <tbody>\n",
       "    <tr>\n",
       "      <th>0</th>\n",
       "      <td>8/3/19 13:11 - Los mensajes en este grupo ahor...</td>\n",
       "    </tr>\n",
       "    <tr>\n",
       "      <th>1</th>\n",
       "      <td>8/3/19 13:04 - âJy creÃ³ el grupo \"Bendita e...</td>\n",
       "    </tr>\n",
       "    <tr>\n",
       "      <th>2</th>\n",
       "      <td>8/3/19 13:11 - âJy te aÃ±adiÃ³</td>\n",
       "    </tr>\n",
       "    <tr>\n",
       "      <th>19</th>\n",
       "      <td>11/3/19 17:39 - âJy cambiÃ³ el Ã­cono de est...</td>\n",
       "    </tr>\n",
       "    <tr>\n",
       "      <th>20</th>\n",
       "      <td>11/3/19 17:26 - âJy cambiÃ³ el asunto de \"Be...</td>\n",
       "    </tr>\n",
       "    <tr>\n",
       "      <th>179</th>\n",
       "      <td>27/3/19 13:45 - âCr aÃ±adiÃ³ a Ro</td>\n",
       "    </tr>\n",
       "    <tr>\n",
       "      <th>181</th>\n",
       "      <td>El viernes si haremos algo para despedir a @52...</td>\n",
       "    </tr>\n",
       "    <tr>\n",
       "      <th>245</th>\n",
       "      <td>Atte.</td>\n",
       "    </tr>\n",
       "    <tr>\n",
       "      <th>246</th>\n",
       "      <td>Enrique Navarrete</td>\n",
       "    </tr>\n",
       "    <tr>\n",
       "      <th>253</th>\n",
       "      <td>Sabes que cuentas con nuestro apoyo âº</td>\n",
       "    </tr>\n",
       "    <tr>\n",
       "      <th>257</th>\n",
       "      <td>Mucho Ã©xito con tus nuevos proyectos, cualqui...</td>\n",
       "    </tr>\n",
       "    <tr>\n",
       "      <th>258</th>\n",
       "      <td>ðð¼ð</td>\n",
       "    </tr>\n",
       "    <tr>\n",
       "      <th>297</th>\n",
       "      <td>2/4/19 13:21 - â+52 1 55 2563 8294 saliÃ³ de...</td>\n",
       "    </tr>\n",
       "    <tr>\n",
       "      <th>448</th>\n",
       "      <td>5/4/19 10:20 - âJy cambiÃ³ el Ã­cono de este...</td>\n",
       "    </tr>\n",
       "    <tr>\n",
       "      <th>1078</th>\n",
       "      <td>29/4/19 13:05 - âJy aÃ±adiÃ³ a Ae</td>\n",
       "    </tr>\n",
       "    <tr>\n",
       "      <th>1163</th>\n",
       "      <td>PerifÃ©rico Boulevard Manuel Ãvila Camacho , ...</td>\n",
       "    </tr>\n",
       "    <tr>\n",
       "      <th>1164</th>\n",
       "      <td>https://www.facebook.com/NielsenIBOPE/</td>\n",
       "    </tr>\n",
       "    <tr>\n",
       "      <th>1966</th>\n",
       "      <td>7/6/19 10:07 - âJn aÃ±adiÃ³ a Id</td>\n",
       "    </tr>\n",
       "    <tr>\n",
       "      <th>1980</th>\n",
       "      <td>7/6/19 10:16 - âJy cambiÃ³ el Ã­cono de este...</td>\n",
       "    </tr>\n",
       "    <tr>\n",
       "      <th>2103</th>\n",
       "      <td>13/6/19 21:11 - âJn aÃ±adiÃ³ a In</td>\n",
       "    </tr>\n",
       "  </tbody>\n",
       "</table>\n",
       "</div>"
      ],
      "text/plain": [
       "                                                      0\n",
       "0     8/3/19 13:11 - Los mensajes en este grupo ahor...\n",
       "1     8/3/19 13:04 - âJy creÃ³ el grupo \"Bendita e...\n",
       "2                      8/3/19 13:11 - âJy te aÃ±adiÃ³\n",
       "19    11/3/19 17:39 - âJy cambiÃ³ el Ã­cono de est...\n",
       "20    11/3/19 17:26 - âJy cambiÃ³ el asunto de \"Be...\n",
       "179                 27/3/19 13:45 - âCr aÃ±adiÃ³ a Ro\n",
       "181   El viernes si haremos algo para despedir a @52...\n",
       "245                                               Atte.\n",
       "246                                   Enrique Navarrete\n",
       "253             Sabes que cuentas con nuestro apoyo âº\n",
       "257   Mucho Ã©xito con tus nuevos proyectos, cualqui...\n",
       "258                                        ðð¼ð\n",
       "297   2/4/19 13:21 - â+52 1 55 2563 8294 saliÃ³ de...\n",
       "448   5/4/19 10:20 - âJy cambiÃ³ el Ã­cono de este...\n",
       "1078                29/4/19 13:05 - âJy aÃ±adiÃ³ a Ae\n",
       "1163  PerifÃ©rico Boulevard Manuel Ãvila Camacho , ...\n",
       "1164             https://www.facebook.com/NielsenIBOPE/\n",
       "1966                 7/6/19 10:07 - âJn aÃ±adiÃ³ a Id\n",
       "1980  7/6/19 10:16 - âJy cambiÃ³ el Ã­cono de este...\n",
       "2103                13/6/19 21:11 - âJn aÃ±adiÃ³ a In"
      ]
     },
     "execution_count": 62,
     "metadata": {},
     "output_type": "execute_result"
    }
   ],
   "source": [
    "df_whats.iloc[errors]"
   ]
  },
  {
   "cell_type": "code",
   "execution_count": 54,
   "metadata": {},
   "outputs": [],
   "source": [
    "dict_data = {'fecha':date, 'hora':time, 'persona':persons, 'mensaje':messages}"
   ]
  },
  {
   "cell_type": "code",
   "execution_count": 59,
   "metadata": {},
   "outputs": [],
   "source": [
    "df = pd.DataFrame(dict_data)"
   ]
  },
  {
   "cell_type": "code",
   "execution_count": 61,
   "metadata": {},
   "outputs": [
    {
     "data": {
      "text/html": [
       "<div>\n",
       "<style scoped>\n",
       "    .dataframe tbody tr th:only-of-type {\n",
       "        vertical-align: middle;\n",
       "    }\n",
       "\n",
       "    .dataframe tbody tr th {\n",
       "        vertical-align: top;\n",
       "    }\n",
       "\n",
       "    .dataframe thead th {\n",
       "        text-align: right;\n",
       "    }\n",
       "</style>\n",
       "<table border=\"1\" class=\"dataframe\">\n",
       "  <thead>\n",
       "    <tr style=\"text-align: right;\">\n",
       "      <th></th>\n",
       "      <th>fecha</th>\n",
       "      <th>hora</th>\n",
       "      <th>persona</th>\n",
       "      <th>mensaje</th>\n",
       "    </tr>\n",
       "  </thead>\n",
       "  <tbody>\n",
       "    <tr>\n",
       "      <th>0</th>\n",
       "      <td>8/3/19</td>\n",
       "      <td>13:14</td>\n",
       "      <td>JebÃºs ð´ââ</td>\n",
       "      <td>XD</td>\n",
       "    </tr>\n",
       "    <tr>\n",
       "      <th>1</th>\n",
       "      <td>8/3/19</td>\n",
       "      <td>13:15</td>\n",
       "      <td>Jn</td>\n",
       "      <td>Quien es Kike y quien ea Lalo?</td>\n",
       "    </tr>\n",
       "    <tr>\n",
       "      <th>2</th>\n",
       "      <td>8/3/19</td>\n",
       "      <td>13:15</td>\n",
       "      <td>Jn</td>\n",
       "      <td>ð¤</td>\n",
       "    </tr>\n",
       "    <tr>\n",
       "      <th>3</th>\n",
       "      <td>8/3/19</td>\n",
       "      <td>13:16</td>\n",
       "      <td>+52 1 55 2563 8294</td>\n",
       "      <td>&lt;Multimedia omitido&gt;</td>\n",
       "    </tr>\n",
       "    <tr>\n",
       "      <th>4</th>\n",
       "      <td>8/3/19</td>\n",
       "      <td>13:17</td>\n",
       "      <td>Jn</td>\n",
       "      <td>Va jeje</td>\n",
       "    </tr>\n",
       "  </tbody>\n",
       "</table>\n",
       "</div>"
      ],
      "text/plain": [
       "    fecha   hora             persona                          mensaje\n",
       "0  8/3/19  13:14   JebÃºs ð´ââ                                XD\n",
       "1  8/3/19  13:15                  Jn   Quien es Kike y quien ea Lalo?\n",
       "2  8/3/19  13:15                  Jn                             ð¤\n",
       "3  8/3/19  13:16  +52 1 55 2563 8294             <Multimedia omitido>\n",
       "4  8/3/19  13:17                  Jn                          Va jeje"
      ]
     },
     "execution_count": 61,
     "metadata": {},
     "output_type": "execute_result"
    }
   ],
   "source": [
    "df.head()"
   ]
  },
  {
   "cell_type": "code",
   "execution_count": 60,
   "metadata": {},
   "outputs": [
    {
     "data": {
      "text/plain": [
       "(2455, 4)"
      ]
     },
     "execution_count": 60,
     "metadata": {},
     "output_type": "execute_result"
    }
   ],
   "source": [
    "df.shape"
   ]
  },
  {
   "cell_type": "markdown",
   "metadata": {
    "toc-hr-collapsed": false
   },
   "source": [
    "# Análisis"
   ]
  },
  {
   "cell_type": "markdown",
   "metadata": {},
   "source": [
    "## Quiénes:"
   ]
  },
  {
   "cell_type": "code",
   "execution_count": 64,
   "metadata": {},
   "outputs": [
    {
     "data": {
      "text/plain": [
       "10"
      ]
     },
     "execution_count": 64,
     "metadata": {},
     "output_type": "execute_result"
    }
   ],
   "source": [
    "df['persona'].nunique()"
   ]
  },
  {
   "cell_type": "code",
   "execution_count": 65,
   "metadata": {},
   "outputs": [
    {
     "data": {
      "text/plain": [
       "['JebÃºs ð\\x9f\\x8f´â\\x80\\x8dâ\\x98\\xa0',\n",
       " 'Jn',\n",
       " '+52 1 55 2563 8294',\n",
       " 'Jy',\n",
       " 'Lo',\n",
       " 'Cr',\n",
       " 'Ro',\n",
       " 'Ae',\n",
       " 'Id',\n",
       " 'In']"
      ]
     },
     "execution_count": 65,
     "metadata": {},
     "output_type": "execute_result"
    }
   ],
   "source": [
    "df['persona'].unique().tolist()"
   ]
  },
  {
   "cell_type": "markdown",
   "metadata": {},
   "source": [
    "## Quiénes manda más whats:"
   ]
  },
  {
   "cell_type": "code",
   "execution_count": 68,
   "metadata": {},
   "outputs": [],
   "source": [
    "import seaborn as sns\n",
    "import matplotlib.pyplot as plt\n",
    "#### import matplotlib.cuffliks"
   ]
  },
  {
   "cell_type": "code",
   "execution_count": 66,
   "metadata": {},
   "outputs": [
    {
     "data": {
      "text/plain": [
       "Jy                    666\n",
       "Lo                    569\n",
       "Jn                    401\n",
       "Cr                    334\n",
       "Ae                    190\n",
       "JebÃºs ð´ââ       95\n",
       "Id                     81\n",
       "Ro                     77\n",
       "+52 1 55 2563 8294     28\n",
       "In                     14\n",
       "Name: persona, dtype: int64"
      ]
     },
     "execution_count": 66,
     "metadata": {},
     "output_type": "execute_result"
    }
   ],
   "source": [
    "df['persona'].value_counts()"
   ]
  },
  {
   "cell_type": "code",
   "execution_count": 80,
   "metadata": {},
   "outputs": [
    {
     "data": {
      "image/png": "[encoded data removed]",
      "text/plain": [
       "<Figure size 1008x504 with 1 Axes>"
      ]
     },
     "metadata": {
      "needs_background": "light"
     },
     "output_type": "display_data"
    }
   ],
   "source": [
    "sns.catplot(x = 'persona', kind='count', data=df, aspect=2, height=7)\n",
    "plt.title('Quién manda más whats')\n",
    "plt.show()"
   ]
  },
  {
   "cell_type": "markdown",
   "metadata": {},
   "source": [
    "## ¿Quién es el más memero?"
   ]
  },
  {
   "cell_type": "code",
   "execution_count": 75,
   "metadata": {},
   "outputs": [
    {
     "data": {
      "text/plain": [
       "Jy                    181\n",
       "Lo                     88\n",
       "Ae                     48\n",
       "Jn                     25\n",
       "Id                     24\n",
       "JebÃºs ð´ââ       19\n",
       "Ro                     13\n",
       "In                      9\n",
       "Cr                      6\n",
       "+52 1 55 2563 8294      4\n",
       "Name: persona, dtype: int64"
      ]
     },
     "execution_count": 75,
     "metadata": {},
     "output_type": "execute_result"
    }
   ],
   "source": [
    "df['persona'][df['mensaje'] == ' <Multimedia omitido>'].value_counts()"
   ]
  },
  {
   "cell_type": "code",
   "execution_count": 82,
   "metadata": {},
   "outputs": [
    {
     "data": {
      "image/png": "[encoded data removed]",
      "text/plain": [
       "<Figure size 1008x504 with 1 Axes>"
      ]
     },
     "metadata": {
      "needs_background": "light"
     },
     "output_type": "display_data"
    }
   ],
   "source": [
    "sns.catplot(x = 'persona', kind='count', data=df[df['mensaje'] == ' <Multimedia omitido>'], aspect=2, height=7, palette='Paired')\n",
    "plt.title('Los más memeros')\n",
    "plt.show()"
   ]
  },
  {
   "cell_type": "markdown",
   "metadata": {},
   "source": [
    "## Los menos memeros"
   ]
  },
  {
   "cell_type": "code",
   "execution_count": 83,
   "metadata": {},
   "outputs": [
    {
     "data": {
      "text/plain": [
       "Jy                    485\n",
       "Lo                    481\n",
       "Jn                    376\n",
       "Cr                    328\n",
       "Ae                    142\n",
       "JebÃºs ð´ââ       76\n",
       "Ro                     64\n",
       "Id                     57\n",
       "+52 1 55 2563 8294     24\n",
       "In                      5\n",
       "Name: persona, dtype: int64"
      ]
     },
     "execution_count": 83,
     "metadata": {},
     "output_type": "execute_result"
    }
   ],
   "source": [
    "df['persona'][df['mensaje'] != ' <Multimedia omitido>'].value_counts()"
   ]
  },
  {
   "cell_type": "code",
   "execution_count": 85,
   "metadata": {},
   "outputs": [
    {
     "data": {
      "image/png": "[encoded data removed]",
      "text/plain": [
       "<Figure size 1008x504 with 1 Axes>"
      ]
     },
     "metadata": {
      "needs_background": "light"
     },
     "output_type": "display_data"
    }
   ],
   "source": [
    "sns.catplot(x = 'persona', kind='count', data=df[df['mensaje'] != ' <Multimedia omitido>'], aspect=2, height=7, palette='Paired')\n",
    "plt.title('Los menos memeros')\n",
    "plt.show()"
   ]
  },
  {
   "cell_type": "markdown",
   "metadata": {},
   "source": [
    "## A qué hora se escribe más:"
   ]
  },
  {
   "cell_type": "code",
   "execution_count": 88,
   "metadata": {},
   "outputs": [
    {
     "data": {
      "text/plain": [
       "17    431\n",
       "13    395\n",
       "12    272\n",
       "08    204\n",
       "14    140\n",
       "15    117\n",
       "18    116\n",
       "16    107\n",
       "07    102\n",
       "09     95\n",
       "10     82\n",
       "19     76\n",
       "21     72\n",
       "23     60\n",
       "11     55\n",
       "06     40\n",
       "00     36\n",
       "22     27\n",
       "20     26\n",
       "03      2\n",
       "Name: hora, dtype: int64"
      ]
     },
     "execution_count": 88,
     "metadata": {},
     "output_type": "execute_result"
    }
   ],
   "source": [
    "df['hora'].apply(lambda x: x[:2]).value_counts()"
   ]
  },
  {
   "cell_type": "markdown",
   "metadata": {},
   "source": [
    "## Quién escribe más"
   ]
  },
  {
   "cell_type": "code",
   "execution_count": 118,
   "metadata": {},
   "outputs": [],
   "source": [
    "total_palabras = {}\n",
    "corpus = {}\n",
    "for individuo in df['persona'].unique().tolist():\n",
    "    data = df[(df['persona'] == individuo) & (df['mensaje'] != ' <Multimedia omitido>')].copy()\n",
    "    data.reset_index(drop=True, inplace=True)\n",
    "    total_messag = ' '\n",
    "    for row in range(len(data)):\n",
    "        total_messag += data['mensaje'].loc[row]\n",
    "    corpus[individuo] = total_messag.split()\n",
    "    total_palabras[individuo] = len(total_messag.split())"
   ]
  },
  {
   "cell_type": "markdown",
   "metadata": {},
   "source": []
  },
  {
   "cell_type": "code",
   "execution_count": 109,
   "metadata": {},
   "outputs": [],
   "source": [
    "from sklearn.feature_extraction.text import CountVectorizer"
   ]
  },
  {
   "cell_type": "code",
   "execution_count": 122,
   "metadata": {},
   "outputs": [
    {
     "name": "stdout",
     "output_type": "stream",
     "text": [
      "JebÃºs ð´ââ  \n",
      " [('ya', 11), ('que', 9), ('el', 8), ('de', 7), ('estã', 6), ('en', 6), ('¼ð', 6), ('se', 6), ('xd', 5), ('vamos', 5), ('la', 5), ('va', 5), ('metro', 5), ('no', 5), ('es', 4), ('mã', 4), ('las', 3), ('ir', 3), ('por', 3), ('todo', 3), ('una', 3), ('los', 3), ('amigos', 3), ('lo', 3), ('20', 2), ('bien', 2), ('yo', 2), ('amos', 2), ('como', 2), ('maã', 2)] \n",
      "\n",
      "\n",
      "Jn \n",
      " [('que', 60), ('no', 50), ('ya', 45), ('jejeje', 30), ('de', 28), ('jeje', 24), ('si', 24), ('va', 23), ('el', 23), ('se', 22), ('la', 20), ('amigos', 17), ('las', 14), ('pos', 14), ('en', 14), ('ma', 14), ('hora', 13), ('es', 12), ('yo', 12), ('los', 11), ('jejejeje', 10), ('vamos', 10), ('como', 10), ('lo', 10), ('por', 9), ('nos', 9), ('pero', 8), ('tons', 8), ('eso', 8), ('lalo', 7)] \n",
      "\n",
      "\n",
      "+52 1 55 2563 8294 \n",
      " [('que', 12), ('siempre', 5), ('de', 4), ('en', 3), ('me', 3), ('no', 3), ('les', 3), ('la', 3), ('los', 3), ('el', 3), ('se', 3), ('sã', 2), ('nos', 2), ('apenas', 2), ('drogo', 2), ('espero', 2), ('vamos', 2), ('pero', 2), ('todos', 2), ('son', 2), ('saben', 2), ('soy', 2), ('mi', 2), ('mã', 2), ('creeeo', 1), ('creo', 1), ('cuando', 1), ('dicen', 1), ('quieren', 1), ('trabajemos', 1)] \n",
      "\n",
      "\n",
      "Jy \n",
      " [('que', 48), ('no', 47), ('ya', 44), ('el', 37), ('se', 36), ('si', 34), ('de', 30), ('en', 30), ('va', 24), ('hora', 22), ('jajajaja', 17), ('por', 17), ('te', 16), ('quã', 14), ('yo', 14), ('x2', 14), ('comer', 13), ('la', 12), ('los', 12), ('10', 11), ('para', 11), ('jajaja', 11), ('jajajajaja', 10), ('comera', 10), ('me', 10), ('vamos', 9), ('mi', 9), ('amigos', 9), ('es', 8), ('una', 8)] \n",
      "\n",
      "\n",
      "Lo \n",
      " [('ya', 60), ('de', 37), ('no', 36), ('que', 33), ('la', 27), ('en', 27), ('el', 26), ('me', 23), ('sã', 17), ('por', 17), ('yo', 15), ('va', 15), ('si', 14), ('voy', 13), ('se', 12), ('es', 11), ('estã', 10), ('las', 10), ('un', 10), ('lo', 10), ('quã', 9), ('los', 9), ('dã³nde', 9), ('con', 9), ('mi', 9), ('https', 8), ('al', 8), ('para', 8), ('le', 8), ('hora', 7)] \n",
      "\n",
      "\n",
      "Cr \n",
      " [('no', 38), ('de', 31), ('el', 28), ('jajajaja', 23), ('la', 23), ('en', 23), ('ya', 22), ('se', 21), ('yo', 17), ('te', 16), ('me', 15), ('pero', 12), ('es', 12), ('5215522630940', 11), ('jajaja', 11), ('mi', 10), ('las', 10), ('lo', 9), ('les', 9), ('vamos', 9), ('gracias', 9), ('por', 8), ('equipo', 8), ('los', 8), ('estã', 8), ('plan', 8), ('si', 7), ('tengo', 7), ('amigo', 7), ('con', 7)] \n",
      "\n",
      "\n",
      "Ro \n",
      " [('ya', 6), ('jajaja', 4), ('no', 4), ('el', 4), ('comer', 3), ('vamos', 3), ('si', 3), ('para', 2), ('en', 2), ('estã', 2), ('solos', 2), ('va', 2), ('la', 2), ('ubicaciã³n', 2), ('quã', 2), ('hora', 2), ('sã', 2), ('esta', 2), ('yaaaa', 1), ('tengo', 1), ('dinero', 1), ('irme', 1), ('mã', 1), ('rancho', 1), ('tienes', 1), ('admiradoras', 1), ('quique', 1), ('jejejejeje', 1), ('venã', 1), ('an', 1)] \n",
      "\n",
      "\n",
      "Ae \n",
      " [('que', 13), ('ya', 10), ('no', 9), ('sã', 9), ('de', 9), ('el', 9), ('x2', 7), ('quã', 6), ('en', 6), ('cã', 5), ('mara', 5), ('chi', 5), ('es', 5), ('vamas', 5), ('lo', 5), ('se', 4), ('jajajaj', 4), ('yo', 4), ('bb', 4), ('estã', 4), ('para', 4), ('te', 4), ('voy', 3), ('hora', 3), ('amigos', 3), ('ah', 3), ('ne', 3), ('jajajajajaj', 3), ('queso', 3), ('los', 3)] \n",
      "\n",
      "\n",
      "Id \n",
      " [('ya', 11), ('que', 10), ('por', 8), ('la', 8), ('no', 8), ('el', 7), ('pues', 6), ('si', 6), ('es', 6), ('me', 5), ('ir', 4), ('de', 4), ('jajaja', 4), ('en', 4), ('yo', 4), ('estã', 4), ('porque', 4), ('vamos', 4), ('como', 3), ('un', 3), ('se', 3), ('estoy', 3), ('x2', 2), ('jajajaja', 2), ('les', 2), ('para', 2), ('mi', 2), ('quien', 2), ('las', 2), ('del', 2)] \n",
      "\n",
      "\n",
      "In \n",
      " [('11', 2), ('ya', 1), ('que', 1), ('es', 1), ('eso', 1), ('no', 1), ('lo', 1), ('conozco', 1), ('en', 1), ('el', 1), ('x2', 1)] \n",
      "\n",
      "\n"
     ]
    }
   ],
   "source": [
    "for individuo in corpus.keys():\n",
    "    vec = CountVectorizer().fit(corpus[individuo])\n",
    "    bag_of_words = vec.transform(corpus[individuo])\n",
    "    sum_words = bag_of_words.sum(axis=0) \n",
    "    words_freq = [(word, sum_words[0, idx]) for word, idx in vec.vocabulary_.items()]\n",
    "    words_freq =sorted(words_freq, key = lambda x: x[1], reverse=True)\n",
    "    print(individuo, '\\n', words_freq[:30], '\\n\\n')"
   ]
  },
  {
   "cell_type": "code",
   "execution_count": null,
   "metadata": {},
   "outputs": [],
   "source": []
  }
 ],
 "metadata": {
  "kernelspec": {
   "display_name": "Python 3",
   "language": "python",
   "name": "python3"
  },
  "language_info": {
   "codemirror_mode": {
    "name": "ipython",
    "version": 3
   },
   "file_extension": ".py",
   "mimetype": "text/x-python",
   "name": "python",
   "nbconvert_exporter": "python",
   "pygments_lexer": "ipython3",
   "version": "3.7.4"
  },
  "toc-autonumbering": true,
  "toc-showmarkdowntxt": false
 },
 "nbformat": 4,
 "nbformat_minor": 4
}
