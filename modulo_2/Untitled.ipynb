{
 "cells": [
  {
   "cell_type": "code",
   "execution_count": 2,
   "metadata": {},
   "outputs": [],
   "source": [
    "import random\n",
    "import os\n",
    "import sys\n",
    "import pandas as pd\n",
    "import numpy as np\n",
    "import matplotlib.pyplot as plt\n",
    "from datetime import datetime, date, timedelta\n",
    "from mpl_toolkits.mplot3d import Axes3D   \n",
    "from pandas import ExcelWriter\n",
    "from pandas import ExcelFile\n",
    "from matplotlib import colors\n",
    "from matplotlib.ticker import PercentFormatter"
   ]
  },
  {
   "cell_type": "code",
   "execution_count": 13,
   "metadata": {},
   "outputs": [],
   "source": [
    "datos='C:/Users/lalo/Desktop/lalo/Nueva carpeta/diplomado/datos - copia.xlsx'\n",
    "df=pd.read_excel(datos, sheet_name='KL') \n",
    "tipoConsumo=df[\"tipoConsumo\"].tolist()\n",
    "diccionario = {\"LLAMADAS\":[],\"MENSAJES\":[],\"DATOS\":[]}"
   ]
  },
  {
   "cell_type": "code",
   "execution_count": 21,
   "metadata": {},
   "outputs": [
    {
     "name": "stdout",
     "output_type": "stream",
     "text": [
      "De la variable cualitativa la dividimos para hacer la Estimación puntual las variables son: \n",
      "GPRS \n",
      "OROAM \n",
      "TGG \n",
      "GPRSO \n",
      "MOBILE \n",
      "MMS \n",
      "GPRSCM \n",
      "\t--------------------------------------------------\n",
      "\tTIPO DE CONSUMOTOTAL NACIONAL TOTAL INTERNACIONAL\n",
      "\t--------------------------------------------------\n",
      "\t   LLAMADAS          40             108      \n",
      "\t--------------------------------------------------\n",
      "\t   MENSAJES           8             10       \n",
      "\t--------------------------------------------------\n",
      "\t     DATOS           13             79        MAS 43\n",
      "\t--------------------------------------------------\n",
      "\n",
      "Puse mas 8 xq GPRSCM y GPRSCO son datos internacionales es lo mismo \n",
      "Pero tienen etiquetas diferentes  por que uno va a un servidor y el otro va a otro servidor pero es lo mismo \n",
      "\n"
     ]
    }
   ],
   "source": [
    "diccionario[\"LLAMADAS\"].append(tipoConsumo.count(\"OROAM\"))\n",
    "diccionario[\"LLAMADAS\"].append(tipoConsumo.count(\"MOBILE\"))\n",
    "diccionario[\"MENSAJES\"].append(tipoConsumo.count(\"TGG\"))\n",
    "diccionario[\"MENSAJES\"].append(tipoConsumo.count(\"MMS\"))\n",
    "diccionario[\"DATOS\"].append(tipoConsumo.count(\"GPRSCM\"))\n",
    "diccionario[\"DATOS\"].append(tipoConsumo.count(\"GPRS\"))\n",
    "diccionario[\"DATOS\"].append(tipoConsumo.count(\"GPRSO\"))\n",
    "print(\"De la variable cualitativa la dividimos para hacer la Estimación puntual las variables son: \")\n",
    "for i in range(len(labelTipoConsumo)):\n",
    "    print(labelTipoConsumo[i] + \" \", end=\"\")\n",
    "    print(\"\")\n",
    "print(\"\\t--------------------------------------------------\")\n",
    "print('{}{:^15}{:^15}{:^15}'.format(\"\\t\",\"TIPO DE CONSUMO\",\"TOTAL NACIONAL\", \"TOTAL INTERNACIONAL\"))\n",
    "print(\"\\t--------------------------------------------------\")\n",
    "print('{}{:^15}{:^15}{:^15}'.format(\"\\t\",\"LLAMADAS\",diccionario[\"LLAMADAS\"][0],diccionario[\"LLAMADAS\"][1]))\n",
    "print(\"\\t--------------------------------------------------\")\n",
    "print('{}{:^15}{:^15}{:^15}'.format(\"\\t\",\"MENSAJES\",diccionario[\"MENSAJES\"][0],diccionario[\"MENSAJES\"][1]))\n",
    "print(\"\\t--------------------------------------------------\")\n",
    "print('{}{:^15}{:^15}{:^15}{}{}'.format(\"\\t\",\"DATOS\",diccionario[\"DATOS\"][0],diccionario[\"DATOS\"][1],\" MAS \",diccionario[\"DATOS\"][2]))\n",
    "print(\"\\t--------------------------------------------------\")\n",
    "print(\"\"\"\n",
    "Puse mas 8 xq GPRSCM y GPRSCO son datos internacionales es lo mismo \\nPero tienen etiquetas diferentes  por que uno va a un servidor y el otro va a otro servidor pero es lo mismo \n",
    "\"\"\")"
   ]
  }
 ],
 "metadata": {
  "kernelspec": {
   "display_name": "Python 3",
   "language": "python",
   "name": "python3"
  },
  "language_info": {
   "codemirror_mode": {
    "name": "ipython",
    "version": 3
   },
   "file_extension": ".py",
   "mimetype": "text/x-python",
   "name": "python",
   "nbconvert_exporter": "python",
   "pygments_lexer": "ipython3",
   "version": "3.7.4"
  }
 },
 "nbformat": 4,
 "nbformat_minor": 2
}
